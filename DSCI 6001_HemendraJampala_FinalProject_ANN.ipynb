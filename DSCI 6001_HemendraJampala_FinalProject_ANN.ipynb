{
 "cells": [
  {
   "cell_type": "code",
   "execution_count": 1,
   "metadata": {},
   "outputs": [],
   "source": [
    "import numpy as np\n",
    "import pandas as pd\n",
    "from numpy import array\n",
    "from scipy import stats\n",
    "from numpy.linalg import inv\n",
    "import matplotlib.pyplot as plt\n",
    "import random\n"
   ]
  },
  {
   "cell_type": "code",
   "execution_count": 2,
   "metadata": {},
   "outputs": [
    {
     "name": "stdout",
     "output_type": "stream",
     "text": [
      "X Shape: (201, 2)\n",
      "Y Shape: (201, 1)\n"
     ]
    }
   ],
   "source": [
    "X = pd.read_csv(r'C:\\Users\\madhuyen\\Desktop\\HEMENDRA J\\Fall_2020_UNH\\DSCI 6001\\Final Project\\F20_M4DS_project_ANN_X.csv',header=None)\n",
    "Y = pd.read_csv(r'C:\\Users\\madhuyen\\Desktop\\HEMENDRA J\\Fall_2020_UNH\\DSCI 6001\\Final Project\\F20_M4DS_project_ANN_Y.csv',header=None)\n",
    "\n",
    "print(\"X Shape:\",X.shape)\n",
    "print(\"Y Shape:\",Y.shape)"
   ]
  },
  {
   "cell_type": "code",
   "execution_count": 3,
   "metadata": {},
   "outputs": [
    {
     "name": "stdout",
     "output_type": "stream",
     "text": [
      "2 3 1\n"
     ]
    }
   ],
   "source": [
    "#Assign size\n",
    "\n",
    "n_x = X.shape[1] # size of input layer`\n",
    "n_h = 3 #Size of hidden layers\n",
    "n_y = Y.shape[1] # size of output layer\n",
    "m =len(Y)\n",
    "print(n_x,n_h,n_y)\n",
    "    "
   ]
  },
  {
   "cell_type": "code",
   "execution_count": 4,
   "metadata": {},
   "outputs": [
    {
     "name": "stdout",
     "output_type": "stream",
     "text": [
      "(2, 3) (1, 3) (3, 1) (1, 1)\n"
     ]
    }
   ],
   "source": [
    "W1 = np.random.randn(n_x,n_h) * 0.01\n",
    "b1 = np.zeros(shape=(1,n_h))\n",
    "W2 = np.random.randn(n_h,n_y) * 0.01\n",
    "b2 = np.zeros(shape=(1,n_y))\n",
    "\n",
    "print(W1.shape,b1.shape,W2.shape,b2.shape)"
   ]
  },
  {
   "cell_type": "code",
   "execution_count": 5,
   "metadata": {},
   "outputs": [
    {
     "data": {
      "text/plain": [
       "array([0.9999546 , 0.5       , 0.73105858])"
      ]
     },
     "execution_count": 5,
     "metadata": {},
     "output_type": "execute_result"
    }
   ],
   "source": [
    "def sigmoid_numpy(X):\n",
    "   return 1/(1+np.exp(-X))\n",
    "\n",
    "sigmoid_numpy(np.array([10,0,1]))"
   ]
  },
  {
   "cell_type": "code",
   "execution_count": 6,
   "metadata": {},
   "outputs": [],
   "source": [
    "def forwardPropogation(W1,b1,W2,b2):\n",
    "    Z1 = X.dot(W1) + b1\n",
    "    A1 = sigmoid_numpy(Z1)\n",
    "    Z2 = A1.dot(W2) + b2\n",
    "    A2 = sigmoid_numpy(Z2)\n",
    "    return Z1,A1,Z2,A2"
   ]
  },
  {
   "cell_type": "code",
   "execution_count": 7,
   "metadata": {},
   "outputs": [],
   "source": [
    "def computecost(A2,Y):\n",
    "    logprobs = np.multiply( np.log(A2), Y) + np.multiply( (1 - Y), np.log(1 - A2) )\n",
    "    return - np.sum(logprobs) / len(Y)"
   ]
  },
  {
   "cell_type": "code",
   "execution_count": 8,
   "metadata": {},
   "outputs": [],
   "source": [
    "def backPropagation(Y,Z1,A1,Z2,A2,W2):\n",
    "    dA2 = A2-Y\n",
    "    dZ2 = dA2* A2* (1-A2)\n",
    "    dW2 = A1.T.dot(dZ2)\n",
    "    db2 = np.sum(dZ2,axis=0)\n",
    "\n",
    "    dA1 = dZ2.dot(W2.T)\n",
    "    dZ1 = dA1*A1*(1-A1)\n",
    "    dW1 = X.T.dot(dZ1)\n",
    "    db1 = np.sum(dZ1,axis=0)\n",
    "\n",
    "    db1 = db1.values.reshape(1,n_h)\n",
    "    db2 = db2.values.reshape(1,n_y)\n",
    "    \n",
    "    return dW1,dW2,db1,db2"
   ]
  },
  {
   "cell_type": "code",
   "execution_count": 9,
   "metadata": {},
   "outputs": [],
   "source": [
    "def updateParams(learning_rate,m,W1,W2,b1,b2,dW1,dW2,db1,db2):\n",
    "    W1 = W1 - (learning_rate/m * dW1)\n",
    "    W2 = W2 - (learning_rate/m * dW2)\n",
    "    b1 = b1 - (learning_rate/m * db1)\n",
    "    b2 = b2 - (learning_rate/m * db2)\n",
    "    return W1,W2,b1,b2"
   ]
  },
  {
   "cell_type": "code",
   "execution_count": 10,
   "metadata": {},
   "outputs": [],
   "source": [
    "def gradientdescentA():\n",
    "    \n",
    "    n_x = X.shape[1] # size of input layer`\n",
    "    n_h = 3\n",
    "    n_y = Y.shape[1] # size of output layer\n",
    "    m =len(Y)\n",
    "    #print(n_x,n_h,n_y)\n",
    "    \n",
    "    W1 = np.random.randn(n_x,n_h) * 0.01\n",
    "    b1 = np.zeros(shape=(1,n_h))\n",
    "    W2 = np.random.randn(n_h,n_y) * 0.01\n",
    "    b2 = np.zeros(shape=(1,n_y))\n",
    "    \n",
    "    learning_rate = 10\n",
    "    for i in range(100):\n",
    "        Z1,A1,Z2,A2 = forwardPropogation(W1,b1,W2,b2)\n",
    "        dW1,dW2,db1,db2 = backPropagation(Y,Z1,A1,Z2,A2,W2)\n",
    "        cost = computecost(A2,Y)\n",
    "        print(\"Cost in Iteration %s is %s\"%(i,cost))\n",
    "        W1,W2,b1,b2 = updateParams(learning_rate,m,W1,W2,b1,b2,dW1,dW2,db1,db2)\n",
    "\n",
    "    print(\"Optimized parameters after 100 iterations:\")\n",
    "    print(\"\\nValues of W1:\\n\",W1)\n",
    "    print(\"\\nValues of b1:\\n\",b1)\n",
    "    print(\"\\nValues of W2:\\n\",W2)\n",
    "    print(\"\\nValues of b2:\\n\",b2)\n",
    "    return forwardPropogation(W1,b1,W2,b2)"
   ]
  },
  {
   "cell_type": "code",
   "execution_count": 11,
   "metadata": {},
   "outputs": [
    {
     "name": "stdout",
     "output_type": "stream",
     "text": [
      "Cost in Iteration 0 is 0    0.693136\n",
      "dtype: float64\n",
      "Cost in Iteration 1 is 0    0.693116\n",
      "dtype: float64\n",
      "Cost in Iteration 2 is 0    0.693107\n",
      "dtype: float64\n",
      "Cost in Iteration 3 is 0    0.693094\n",
      "dtype: float64\n",
      "Cost in Iteration 4 is 0    0.693075\n",
      "dtype: float64\n",
      "Cost in Iteration 5 is 0    0.693049\n",
      "dtype: float64\n",
      "Cost in Iteration 6 is 0    0.693011\n",
      "dtype: float64\n",
      "Cost in Iteration 7 is 0    0.692956\n",
      "dtype: float64\n",
      "Cost in Iteration 8 is 0    0.692877\n",
      "dtype: float64\n",
      "Cost in Iteration 9 is 0    0.692764\n",
      "dtype: float64\n",
      "Cost in Iteration 10 is 0    0.692602\n",
      "dtype: float64\n",
      "Cost in Iteration 11 is 0    0.692368\n",
      "dtype: float64\n",
      "Cost in Iteration 12 is 0    0.692033\n",
      "dtype: float64\n",
      "Cost in Iteration 13 is 0    0.691552\n",
      "dtype: float64\n",
      "Cost in Iteration 14 is 0    0.690863\n",
      "dtype: float64\n",
      "Cost in Iteration 15 is 0    0.68988\n",
      "dtype: float64\n",
      "Cost in Iteration 16 is 0    0.688481\n",
      "dtype: float64\n",
      "Cost in Iteration 17 is 0    0.686501\n",
      "dtype: float64\n",
      "Cost in Iteration 18 is 0    0.683717\n",
      "dtype: float64\n",
      "Cost in Iteration 19 is 0    0.679841\n",
      "dtype: float64\n",
      "Cost in Iteration 20 is 0    0.67452\n",
      "dtype: float64\n",
      "Cost in Iteration 21 is 0    0.667346\n",
      "dtype: float64\n",
      "Cost in Iteration 22 is 0    0.657907\n",
      "dtype: float64\n",
      "Cost in Iteration 23 is 0    0.645868\n",
      "dtype: float64\n",
      "Cost in Iteration 24 is 0    0.631092\n",
      "dtype: float64\n",
      "Cost in Iteration 25 is 0    0.613763\n",
      "dtype: float64\n",
      "Cost in Iteration 26 is 0    0.594447\n",
      "dtype: float64\n",
      "Cost in Iteration 27 is 0    0.574036\n",
      "dtype: float64\n",
      "Cost in Iteration 28 is 0    0.55356\n",
      "dtype: float64\n",
      "Cost in Iteration 29 is 0    0.533947\n",
      "dtype: float64\n",
      "Cost in Iteration 30 is 0    0.515846\n",
      "dtype: float64\n",
      "Cost in Iteration 31 is 0    0.499583\n",
      "dtype: float64\n",
      "Cost in Iteration 32 is 0    0.485216\n",
      "dtype: float64\n",
      "Cost in Iteration 33 is 0    0.472634\n",
      "dtype: float64\n",
      "Cost in Iteration 34 is 0    0.461646\n",
      "dtype: float64\n",
      "Cost in Iteration 35 is 0    0.452039\n",
      "dtype: float64\n",
      "Cost in Iteration 36 is 0    0.443609\n",
      "dtype: float64\n",
      "Cost in Iteration 37 is 0    0.436179\n",
      "dtype: float64\n",
      "Cost in Iteration 38 is 0    0.429597\n",
      "dtype: float64\n",
      "Cost in Iteration 39 is 0    0.423737\n",
      "dtype: float64\n",
      "Cost in Iteration 40 is 0    0.418495\n",
      "dtype: float64\n",
      "Cost in Iteration 41 is 0    0.413786\n",
      "dtype: float64\n",
      "Cost in Iteration 42 is 0    0.409541\n",
      "dtype: float64\n",
      "Cost in Iteration 43 is 0    0.405699\n",
      "dtype: float64\n",
      "Cost in Iteration 44 is 0    0.402214\n",
      "dtype: float64\n",
      "Cost in Iteration 45 is 0    0.399044\n",
      "dtype: float64\n",
      "Cost in Iteration 46 is 0    0.396153\n",
      "dtype: float64\n",
      "Cost in Iteration 47 is 0    0.393512\n",
      "dtype: float64\n",
      "Cost in Iteration 48 is 0    0.391095\n",
      "dtype: float64\n",
      "Cost in Iteration 49 is 0    0.388878\n",
      "dtype: float64\n",
      "Cost in Iteration 50 is 0    0.386842\n",
      "dtype: float64\n",
      "Cost in Iteration 51 is 0    0.384969\n",
      "dtype: float64\n",
      "Cost in Iteration 52 is 0    0.383243\n",
      "dtype: float64\n",
      "Cost in Iteration 53 is 0    0.381651\n",
      "dtype: float64\n",
      "Cost in Iteration 54 is 0    0.38018\n",
      "dtype: float64\n",
      "Cost in Iteration 55 is 0    0.37882\n",
      "dtype: float64\n",
      "Cost in Iteration 56 is 0    0.377559\n",
      "dtype: float64\n",
      "Cost in Iteration 57 is 0    0.37639\n",
      "dtype: float64\n",
      "Cost in Iteration 58 is 0    0.375304\n",
      "dtype: float64\n",
      "Cost in Iteration 59 is 0    0.374295\n",
      "dtype: float64\n",
      "Cost in Iteration 60 is 0    0.373355\n",
      "dtype: float64\n",
      "Cost in Iteration 61 is 0    0.372478\n",
      "dtype: float64\n",
      "Cost in Iteration 62 is 0    0.371661\n",
      "dtype: float64\n",
      "Cost in Iteration 63 is 0    0.370897\n",
      "dtype: float64\n",
      "Cost in Iteration 64 is 0    0.370183\n",
      "dtype: float64\n",
      "Cost in Iteration 65 is 0    0.369514\n",
      "dtype: float64\n",
      "Cost in Iteration 66 is 0    0.368887\n",
      "dtype: float64\n",
      "Cost in Iteration 67 is 0    0.3683\n",
      "dtype: float64\n",
      "Cost in Iteration 68 is 0    0.367748\n",
      "dtype: float64\n",
      "Cost in Iteration 69 is 0    0.367229\n",
      "dtype: float64\n",
      "Cost in Iteration 70 is 0    0.366741\n",
      "dtype: float64\n",
      "Cost in Iteration 71 is 0    0.366282\n",
      "dtype: float64\n",
      "Cost in Iteration 72 is 0    0.365849\n",
      "dtype: float64\n",
      "Cost in Iteration 73 is 0    0.365441\n",
      "dtype: float64\n",
      "Cost in Iteration 74 is 0    0.365056\n",
      "dtype: float64\n",
      "Cost in Iteration 75 is 0    0.364692\n",
      "dtype: float64\n",
      "Cost in Iteration 76 is 0    0.364348\n",
      "dtype: float64\n",
      "Cost in Iteration 77 is 0    0.364023\n",
      "dtype: float64\n",
      "Cost in Iteration 78 is 0    0.363715\n",
      "dtype: float64\n",
      "Cost in Iteration 79 is 0    0.363423\n",
      "dtype: float64\n",
      "Cost in Iteration 80 is 0    0.363147\n",
      "dtype: float64\n",
      "Cost in Iteration 81 is 0    0.362884\n",
      "dtype: float64\n",
      "Cost in Iteration 82 is 0    0.362635\n",
      "dtype: float64\n",
      "Cost in Iteration 83 is 0    0.362398\n",
      "dtype: float64\n",
      "Cost in Iteration 84 is 0    0.362174\n",
      "dtype: float64\n",
      "Cost in Iteration 85 is 0    0.36196\n",
      "dtype: float64\n",
      "Cost in Iteration 86 is 0    0.361756\n",
      "dtype: float64\n",
      "Cost in Iteration 87 is 0    0.361562\n",
      "dtype: float64\n",
      "Cost in Iteration 88 is 0    0.361377\n",
      "dtype: float64\n",
      "Cost in Iteration 89 is 0    0.361201\n",
      "dtype: float64\n",
      "Cost in Iteration 90 is 0    0.361033\n",
      "dtype: float64\n",
      "Cost in Iteration 91 is 0    0.360873\n",
      "dtype: float64\n",
      "Cost in Iteration 92 is 0    0.360719\n",
      "dtype: float64\n",
      "Cost in Iteration 93 is 0    0.360573\n",
      "dtype: float64\n",
      "Cost in Iteration 94 is 0    0.360433\n",
      "dtype: float64\n",
      "Cost in Iteration 95 is 0    0.360299\n",
      "dtype: float64\n",
      "Cost in Iteration 96 is 0    0.360171\n",
      "dtype: float64\n",
      "Cost in Iteration 97 is 0    0.360048\n",
      "dtype: float64\n",
      "Cost in Iteration 98 is 0    0.35993\n",
      "dtype: float64\n",
      "Cost in Iteration 99 is 0    0.359818\n",
      "dtype: float64\n",
      "Optimized parameters after 100 iterations:\n",
      "\n",
      "Values of W1:\n",
      "           0         1         2\n",
      "0 -0.644934 -0.622088  0.680601\n",
      "1  1.669031  1.529509 -2.315429\n",
      "\n",
      "Values of b1:\n",
      " [[-0.05698939 -0.05307455  0.13122145]]\n",
      "\n",
      "Values of W2:\n",
      "           0\n",
      "0 -1.953283\n",
      "1 -1.756940\n",
      "2  3.227721\n",
      "\n",
      "Values of b2:\n",
      " [[0.38184959]]\n",
      "\n",
      "A2 gives the predicted output values, which is the 4th parameter returned by forwardPropogation.\n",
      "             0\n",
      "0    0.087048\n",
      "1    0.415891\n",
      "2    0.959556\n",
      "3    0.313846\n",
      "4    0.736427\n",
      "..        ...\n",
      "196  0.074658\n",
      "197  0.830620\n",
      "198  0.646243\n",
      "199  0.094892\n",
      "200  0.875867\n",
      "\n",
      "[201 rows x 1 columns]\n"
     ]
    }
   ],
   "source": [
    "#Predictions with optimized parameters\n",
    "#A2 gives the predicted output values, which is the 4th parameter returned by forwardPropogation.\n",
    "predictions = gradientdescentA()\n",
    "print(\"\\nA2 gives the predicted output values, which is the 4th parameter returned by forwardPropogation.\\n\",predictions[3])"
   ]
  },
  {
   "cell_type": "code",
   "execution_count": 12,
   "metadata": {},
   "outputs": [
    {
     "data": {
      "image/png": "[encoded data removed]",
      "text/plain": [
       "<Figure size 432x288 with 1 Axes>"
      ]
     },
     "metadata": {
      "needs_background": "light"
     },
     "output_type": "display_data"
    }
   ],
   "source": [
    "import matplotlib.pyplot as plt\n",
    "x = np.random.randn(201,1)\n",
    "\n",
    "plt.scatter(x,predictions[3])\n",
    "plt.title(\"Scatter plot of Prediction values\")\n",
    "plt.xlabel('Random x')\n",
    "plt.ylabel('Predicted Value')\n",
    "plt.show()"
   ]
  },
  {
   "cell_type": "code",
   "execution_count": null,
   "metadata": {},
   "outputs": [],
   "source": []
  }
 ],
 "metadata": {
  "kernelspec": {
   "display_name": "Python 3",
   "language": "python",
   "name": "python3"
  },
  "language_info": {
   "codemirror_mode": {
    "name": "ipython",
    "version": 3
   },
   "file_extension": ".py",
   "mimetype": "text/x-python",
   "name": "python",
   "nbconvert_exporter": "python",
   "pygments_lexer": "ipython3",
   "version": "3.8.5"
  }
 },
 "nbformat": 4,
 "nbformat_minor": 4
}
